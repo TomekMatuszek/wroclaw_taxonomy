{
 "cells": [
  {
   "cell_type": "markdown",
   "metadata": {},
   "source": [
    "Examples of usage of Dendrite class from wroclaw_taxonomy package"
   ]
  },
  {
   "cell_type": "markdown",
   "metadata": {},
   "source": [
    "Example 1: cities of Poland with only location taken into account"
   ]
  },
  {
   "cell_type": "code",
   "execution_count": null,
   "metadata": {},
   "outputs": [],
   "source": [
    "import wroclaw_taxonomy as wt\n",
    "\n",
    "dendrite = wt.Dendrite('data/citiesPL_pop.geojson')\n",
    "dendrite.calculate(columns=['lat', 'lon'], normalize=False)"
   ]
  },
  {
   "cell_type": "code",
   "execution_count": null,
   "metadata": {},
   "outputs": [],
   "source": [
    "print(\"Levels: \", dendrite.n_levels)\n",
    "print(dendrite.matrix)\n",
    "print(dendrite.source_data)\n",
    "print(dendrite.results)"
   ]
  },
  {
   "cell_type": "code",
   "execution_count": null,
   "metadata": {},
   "outputs": [],
   "source": [
    "dendrite.export_objects()\n",
    "dendrite.export_dendrite()"
   ]
  },
  {
   "cell_type": "code",
   "execution_count": null,
   "metadata": {},
   "outputs": [],
   "source": [
    "dendrite.plot()"
   ]
  },
  {
   "cell_type": "code",
   "execution_count": null,
   "metadata": {},
   "outputs": [],
   "source": [
    "dendrite.set_style(\n",
    "    style={\n",
    "        \"markersize\": 20,\n",
    "        \"cmap\": 'gist_rainbow',\n",
    "        \"line_color\": '#000000',\n",
    "        \"object_color\": '#0000ff'\n",
    "    }\n",
    ")"
   ]
  },
  {
   "cell_type": "code",
   "execution_count": null,
   "metadata": {},
   "outputs": [],
   "source": [
    "dendrite.plot()"
   ]
  },
  {
   "cell_type": "code",
   "execution_count": null,
   "metadata": {},
   "outputs": [],
   "source": [
    "dendrite.set_style('default')\n",
    "dendrite.plot(level=1, lines=True)"
   ]
  },
  {
   "cell_type": "code",
   "execution_count": null,
   "metadata": {},
   "outputs": [],
   "source": [
    "dendrite.animate(out_file='img/dendrite.gif', frame_duration=1)"
   ]
  },
  {
   "cell_type": "markdown",
   "metadata": {},
   "source": [
    "Example 2: polish counties (powiaty) with three socio-economic variables taken into account"
   ]
  },
  {
   "cell_type": "code",
   "execution_count": null,
   "metadata": {},
   "outputs": [],
   "source": [
    "dendrite = wt.Dendrite('data/powiaty_dane.geojson')\n",
    "dendrite.calculate(columns=['bezrobocie-TABLICA_[%]', 'stan ludności-TABLICA_[osoba]', 'wynagrodzenia-TABLICA_[%]'], normalize=True)\n",
    "dendrite.export_objects()\n",
    "dendrite.export_dendrite()"
   ]
  },
  {
   "cell_type": "code",
   "execution_count": null,
   "metadata": {},
   "outputs": [],
   "source": [
    "dendrite.plot(level=3, lines=False)"
   ]
  },
  {
   "cell_type": "code",
   "execution_count": null,
   "metadata": {},
   "outputs": [],
   "source": [
    "dendrite.animate(out_file='img/dendrite.gif', lines=False)"
   ]
  },
  {
   "cell_type": "markdown",
   "metadata": {},
   "source": [
    "Example 3: polish cities as polygons"
   ]
  },
  {
   "cell_type": "code",
   "execution_count": null,
   "metadata": {},
   "outputs": [],
   "source": [
    "dendrite = wt.Dendrite('data/citiesPL_poly.geojson')\n",
    "dendrite.calculate(columns=['lat', 'lon'], normalize=False)\n",
    "dendrite.export_objects()\n",
    "dendrite.export_dendrite()"
   ]
  },
  {
   "cell_type": "code",
   "execution_count": null,
   "metadata": {},
   "outputs": [],
   "source": [
    "dendrite.plot()"
   ]
  },
  {
   "cell_type": "code",
   "execution_count": null,
   "metadata": {},
   "outputs": [],
   "source": [
    "dendrite.animate(out_file='img/dendrite.gif')"
   ]
  }
 ],
 "metadata": {
  "kernelspec": {
   "display_name": "Python 3.10.4 ('wroclaw_venv': venv)",
   "language": "python",
   "name": "python3"
  },
  "language_info": {
   "codemirror_mode": {
    "name": "ipython",
    "version": 3
   },
   "file_extension": ".py",
   "mimetype": "text/x-python",
   "name": "python",
   "nbconvert_exporter": "python",
   "pygments_lexer": "ipython3",
   "version": "3.10.4 (tags/v3.10.4:9d38120, Mar 23 2022, 23:13:41) [MSC v.1929 64 bit (AMD64)]"
  },
  "orig_nbformat": 4,
  "vscode": {
   "interpreter": {
    "hash": "3e209ccd67ca2d1ccadfb9aad718e15814e07c33f9a1113ab601246907abf854"
   }
  }
 },
 "nbformat": 4,
 "nbformat_minor": 2
}
